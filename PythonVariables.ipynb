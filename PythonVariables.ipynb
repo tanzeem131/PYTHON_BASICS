{
  "nbformat": 4,
  "nbformat_minor": 0,
  "metadata": {
    "colab": {
      "name": "PythonVariables.ipynb",
      "provenance": [],
      "collapsed_sections": [],
      "include_colab_link": true
    },
    "kernelspec": {
      "name": "python3",
      "display_name": "Python 3"
    },
    "language_info": {
      "name": "python"
    }
  },
  "cells": [
    {
      "cell_type": "markdown",
      "metadata": {
        "id": "view-in-github",
        "colab_type": "text"
      },
      "source": [
        "<a href=\"https://colab.research.google.com/github/tanzeem131/tanzeem131/blob/main/PythonVariables.ipynb\" target=\"_parent\"><img src=\"https://colab.research.google.com/assets/colab-badge.svg\" alt=\"Open In Colab\"/></a>"
      ]
    },
    {
      "cell_type": "markdown",
      "metadata": {
        "id": "lI84VvgYymFG"
      },
      "source": [
        "## Python Variables\n",
        "* Variable is a name that is used to refer to memory location. \n",
        "* Python  variable is also known as an identifier and used to hold value.\n",
        "\n",
        "In Python, we don't need to specify the type of variable because Python is a infer language and smart enough to get variable type.\n",
        "\n",
        "Variable names can be a group of both the letters and digits, but they have to begin with a letter or an underscore.\n",
        "\n",
        "It is recommended to use lowercase letters for the variable name. Rahul and rahul both are two different variables."
      ]
    },
    {
      "cell_type": "markdown",
      "metadata": {
        "id": "ebCvsWFwy4Kt"
      },
      "source": [
        "## Identifier Naming\n",
        "Variables are the example of identifiers. An Identifier is used to identify the literals used in the program. \n",
        "## Tips :\n",
        "\n",
        "* The first character of the variable must be an alphabet or underscore ( _ ).\n",
        "* All the characters except the first character may be an alphabet of lower-case(a-z), upper-case (A-Z), underscore, or digit (0-9).\n",
        "* Identifier name must not contain any white-space, or special character (!, @, #, %, ^, &, *).\n",
        "* Identifier name must not be similar to any keyword defined in the language.\n",
        "* Identifier names are case sensitive; for example, my name, and MyName is not the same.\n",
        "#### Examples of valid identifiers: a123, _n, n_9, etc.\n",
        "#### Examples of invalid identifiers: 1a, n%4, n 9, etc.\n",
        "\n",
        "## Declaring Variable and Assigning Values\n",
        "Python does not bind us to declare a variable before using it in the application. It allows us to create a variable at the required time.\n",
        "\n",
        "We don't need to declare explicitly variable in Python. When we assign any value to the variable, that variable is declared automatically.\n",
        "\n",
        "The equal (=) operator is used to assign value to a variable.\n",
        "\n",
        "## Object References\n",
        "It is necessary to understand how the Python interpreter works when we declare a variable. The process of treating variables is somewhat different from many other programming languages.\n",
        "\n",
        "Python is the highly object-oriented programming language; that's why every data item belongs to a specific type of class. Consider the following example."
      ]
    },
    {
      "cell_type": "code",
      "metadata": {
        "colab": {
          "base_uri": "https://localhost:8080/"
        },
        "id": "VV3Q6UhMzhgo",
        "outputId": "109b8a0a-b37b-49af-ce53-be086057e732"
      },
      "source": [
        "print(\"India\")\n",
        "type(\"India\") "
      ],
      "execution_count": 8,
      "outputs": [
        {
          "output_type": "stream",
          "text": [
            "India\n"
          ],
          "name": "stdout"
        },
        {
          "output_type": "execute_result",
          "data": {
            "text/plain": [
              "str"
            ]
          },
          "metadata": {},
          "execution_count": 8
        }
      ]
    },
    {
      "cell_type": "markdown",
      "metadata": {
        "id": "Yu01vpv4zo2u"
      },
      "source": [
        "The Python object creates an integer object and displays it to the console. In the above print statement, we have created a string object. Let's check the type of it using the Python built-in type() function."
      ]
    },
    {
      "cell_type": "markdown",
      "metadata": {
        "id": "BwVyvEXuz3cL"
      },
      "source": [
        "In Python, variables are a symbolic name that is a reference or pointer to an object. The variables are used to denote objects by that name.The variable b refers to the same object that a points to because Python does not create another object."
      ]
    },
    {
      "cell_type": "code",
      "metadata": {
        "id": "5lm1tVEOz6zx"
      },
      "source": [
        "a = 50\n",
        "a=b=50\n",
        "b=100"
      ],
      "execution_count": 7,
      "outputs": []
    },
    {
      "cell_type": "markdown",
      "metadata": {
        "id": "UfJatleZ0ayh"
      },
      "source": [
        "![python-variables.png](data:image/png;base64,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)"
      ]
    },
    {
      "cell_type": "markdown",
      "metadata": {
        "id": "0T9xZn8y0pdK"
      },
      "source": [
        "![python-variables2.png](data:image/png;base64,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)"
      ]
    },
    {
      "cell_type": "markdown",
      "metadata": {
        "id": "cW1FJmbz0Bc9"
      },
      "source": [
        ""
      ]
    },
    {
      "cell_type": "markdown",
      "metadata": {
        "id": "Y6az2P9I09ef"
      },
      "source": [
        "## Object Identity\n",
        "In Python, every created object identifies uniquely in Python. Python provides the guaranteed that no two objects will have the same identifier. "
      ]
    },
    {
      "cell_type": "code",
      "metadata": {
        "colab": {
          "base_uri": "https://localhost:8080/"
        },
        "id": "5fFwOvyz1Bol",
        "outputId": "4ecb07e1-9bf1-41f4-ad5c-67ae4b154ea6"
      },
      "source": [
        "a = 100  \n",
        "b = a  \n",
        "print(id(a)) \n",
        "print(id(b)) \n",
        "print(a)\n",
        "print(b)\n",
        "# Reassigned variable a  \n",
        "a = 800  \n",
        "print(id(a))\n",
        "print(a)"
      ],
      "execution_count": 6,
      "outputs": [
        {
          "output_type": "stream",
          "text": [
            "94609639704160\n",
            "94609639704160\n",
            "100\n",
            "100\n",
            "139877679111120\n",
            "800\n"
          ],
          "name": "stdout"
        }
      ]
    },
    {
      "cell_type": "markdown",
      "metadata": {
        "id": "AjaRA-4X1aNW"
      },
      "source": [
        "## Variable Names\n",
        " Variable names can be any length can have uppercase, lowercase (A to Z, a to z), the digit (0-9), and underscore character(_). Consider the following example of valid variables names."
      ]
    },
    {
      "cell_type": "code",
      "metadata": {
        "colab": {
          "base_uri": "https://localhost:8080/"
        },
        "id": "zk9njdTP1iip",
        "outputId": "da909eab-cf49-4ae6-83af-80e49c555940"
      },
      "source": [
        "name = \"pythonbasics\"  \n",
        "first=second= 11       # Assigning single value to multiple variables\n",
        "a=b=c=4,5,6               \n",
        "a,b,c=4,5,6           # Assigning multiple values to multiple variables:\n",
        "\n",
        "print(name)  \n",
        "print(first,second)  \n",
        "print(a,b,c)\n",
        "print(a) \n",
        "\n",
        "name = \"Test1\"  \n",
        "Name = \"Test2\"  \n",
        "naMe = \"Test3\"  \n",
        "NAME = \"Test4\"  \n",
        "n_a_m_e = \"Test5\"  \n",
        "_name = \"Test6\"  \n",
        "name_ = \"Test7\"  \n",
        "_name_ = \"Test8\"  \n",
        "na80me = \"Test9\"  \n",
        "print(name,Name,naMe,NAME)            # Print multiple values  \n",
        "print(name,Name,naMe,NAME,n_a_m_e, NAME, n_a_m_e, _name, name_,_name, na80me)  "
      ],
      "execution_count": 5,
      "outputs": [
        {
          "output_type": "stream",
          "text": [
            "pythonbasics\n",
            "11 11\n",
            "4 5 6\n",
            "4\n",
            "Test1 Test2 Test3 Test4\n",
            "Test1 Test2 Test3 Test4 Test5 Test4 Test5 Test6 Test7 Test6 Test9\n"
          ],
          "name": "stdout"
        }
      ]
    },
    {
      "cell_type": "markdown",
      "metadata": {
        "id": "aXljUVJc3E7n"
      },
      "source": [
        "## Python Variable Types\n",
        "There are two types of variables in Python \n",
        "* Local variable \n",
        "* Global variable. \n",
        "\n",
        "### Local Variable\n",
        "Local variables are the variables that declared inside the function and have scope within the function. we declared a function named add() and assigned a few variables within the function. These variables will be referred to as the local variables which have scope only inside the function. If we try to use them outside the function, we get a following error.\n",
        "Let's understand the following example."
      ]
    },
    {
      "cell_type": "code",
      "metadata": {
        "id": "X6OBM1ag3Py6"
      },
      "source": [
        "# Declaring a function  \n",
        "def Myadd():  \n",
        "    # Defining local variables. They has scope only within a function  \n",
        "    m = 40  \n",
        "    n = 40  \n",
        "    p = m + n \n",
        "    print(\"The sum is:\", p)  \n",
        "  \n",
        "# Calling a function  \n",
        "#Myadd()  \n",
        "\n",
        "# Accessing local variable outside the function. Gives an error   \n",
        "#print(m)  "
      ],
      "execution_count": 4,
      "outputs": []
    },
    {
      "cell_type": "code",
      "metadata": {
        "id": "QV7Q7gBU1Dru",
        "colab": {
          "base_uri": "https://localhost:8080/"
        },
        "outputId": "bb3d75de-997a-4873-8cce-2eb8977d02c0"
      },
      "source": [
        "#here \"name\" is a local variables\n",
        "name = \"python\"\n",
        "\n",
        "def printName():\n",
        "\tname = \"python\"\n",
        "\tprint(name)\n",
        "\n",
        "printName()\n",
        "\n",
        "\n",
        "#here \"score\" is a global variables\n",
        "score = 3\n",
        "\n",
        "def calculateScore():\n",
        " score = 6\n",
        " print(\"Final Score:\", score)\n",
        "\n",
        "calculateScore()\n",
        "print(\"Initial Score:\", score)\n",
        "\n",
        "\n"
      ],
      "execution_count": 3,
      "outputs": [
        {
          "output_type": "stream",
          "text": [
            "python\n",
            "Final Score: 6\n",
            "Initial Score: 3\n"
          ],
          "name": "stdout"
        }
      ]
    },
    {
      "cell_type": "markdown",
      "metadata": {
        "id": "jtPoejyd4OJ-"
      },
      "source": [
        "## Global Variables\n",
        "Global variables can be used throughout the program, and its scope is in the entire program. \n",
        "We can use global variables inside or outside the function.\n",
        "\n",
        "* A variable declared outside the function is the global variable by default. \n",
        "* Python provides the global keyword to use global variable inside the function. \n",
        "* If we don't use the global keyword, the function treats it as a local variable. \n",
        "\n",
        "Let's understand the following example."
      ]
    },
    {
      "cell_type": "code",
      "metadata": {
        "id": "Jc05N00i4Uuo",
        "colab": {
          "base_uri": "https://localhost:8080/"
        },
        "outputId": "f2f70d17-bf08-452e-fafb-f677c4d5aa69"
      },
      "source": [
        "# Declare a variable and initialize it  \n",
        "x = 200  \n",
        "  \n",
        "# Global variable in function  \n",
        "def mFunction():  \n",
        "    # printing a global variable  \n",
        "    global x  \n",
        "    print(x)  \n",
        "    # modifying a global variable  \n",
        "    x = 'Welcome To OOP'  \n",
        "    print(x)  \n",
        "  \n",
        "mFunction()  \n",
        "print(x)  \n",
        "\n",
        "#del x  \n",
        "#print(x)  "
      ],
      "execution_count": 2,
      "outputs": [
        {
          "output_type": "stream",
          "text": [
            "200\n",
            "Welcome To OOP\n",
            "Welcome To OOP\n"
          ],
          "name": "stdout"
        }
      ]
    },
    {
      "cell_type": "markdown",
      "metadata": {
        "id": "iWEtZo5A4y0e"
      },
      "source": [
        "## Maximum Possible Value of an Integer in Python?\n",
        "Unlike the other programming languages, Python doesn't have long int or float data types. It treats all integer values as an int data type.\n",
        "there is no limitation number by bits and we can expand to the limit of our memory."
      ]
    },
    {
      "cell_type": "code",
      "metadata": {
        "colab": {
          "base_uri": "https://localhost:8080/"
        },
        "id": "5oDj8_it4_Iq",
        "outputId": "b2a242ef-26ad-4f22-fcbb-9c9ba41ca0f0"
      },
      "source": [
        "c = 45.45 \n",
        "c = c + 1  \n",
        "print(type(c))  \n",
        "print (c) "
      ],
      "execution_count": 1,
      "outputs": [
        {
          "output_type": "stream",
          "text": [
            "<class 'float'>\n",
            "46.45\n"
          ],
          "name": "stdout"
        }
      ]
    },
    {
      "cell_type": "markdown",
      "metadata": {
        "id": "hrq_EudH4GpF"
      },
      "source": [
        ""
      ]
    }
  ]
}